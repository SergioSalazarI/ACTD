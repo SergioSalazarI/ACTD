{
 "cells": [
  {
   "cell_type": "code",
   "execution_count": 3,
   "metadata": {},
   "outputs": [],
   "source": [
    "import pandas as pd\n",
    "from pgmpy.models import BayesianNetwork\n",
    "from pgmpy.sampling import BayesianModelSampling\n",
    "from pgmpy.estimators import MaximumLikelihoodEstimator, BayesianEstimator"
   ]
  },
  {
   "cell_type": "code",
   "execution_count": 4,
   "metadata": {},
   "outputs": [
    {
     "data": {
      "text/html": [
       "<div>\n",
       "<style scoped>\n",
       "    .dataframe tbody tr th:only-of-type {\n",
       "        vertical-align: middle;\n",
       "    }\n",
       "\n",
       "    .dataframe tbody tr th {\n",
       "        vertical-align: top;\n",
       "    }\n",
       "\n",
       "    .dataframe thead th {\n",
       "        text-align: right;\n",
       "    }\n",
       "</style>\n",
       "<table border=\"1\" class=\"dataframe\">\n",
       "  <thead>\n",
       "    <tr style=\"text-align: right;\">\n",
       "      <th></th>\n",
       "      <th>Unnamed: 0</th>\n",
       "      <th>asia</th>\n",
       "      <th>tub</th>\n",
       "      <th>smoke</th>\n",
       "      <th>lung</th>\n",
       "      <th>bronc</th>\n",
       "      <th>either</th>\n",
       "      <th>xray</th>\n",
       "      <th>dysp</th>\n",
       "    </tr>\n",
       "  </thead>\n",
       "  <tbody>\n",
       "    <tr>\n",
       "      <th>0</th>\n",
       "      <td>0</td>\n",
       "      <td>no</td>\n",
       "      <td>no</td>\n",
       "      <td>no</td>\n",
       "      <td>no</td>\n",
       "      <td>yes</td>\n",
       "      <td>no</td>\n",
       "      <td>no</td>\n",
       "      <td>no</td>\n",
       "    </tr>\n",
       "    <tr>\n",
       "      <th>1</th>\n",
       "      <td>1</td>\n",
       "      <td>no</td>\n",
       "      <td>no</td>\n",
       "      <td>no</td>\n",
       "      <td>yes</td>\n",
       "      <td>no</td>\n",
       "      <td>yes</td>\n",
       "      <td>yes</td>\n",
       "      <td>no</td>\n",
       "    </tr>\n",
       "    <tr>\n",
       "      <th>2</th>\n",
       "      <td>2</td>\n",
       "      <td>no</td>\n",
       "      <td>no</td>\n",
       "      <td>no</td>\n",
       "      <td>no</td>\n",
       "      <td>no</td>\n",
       "      <td>no</td>\n",
       "      <td>no</td>\n",
       "      <td>no</td>\n",
       "    </tr>\n",
       "    <tr>\n",
       "      <th>3</th>\n",
       "      <td>3</td>\n",
       "      <td>no</td>\n",
       "      <td>no</td>\n",
       "      <td>yes</td>\n",
       "      <td>no</td>\n",
       "      <td>yes</td>\n",
       "      <td>no</td>\n",
       "      <td>no</td>\n",
       "      <td>yes</td>\n",
       "    </tr>\n",
       "    <tr>\n",
       "      <th>4</th>\n",
       "      <td>4</td>\n",
       "      <td>no</td>\n",
       "      <td>no</td>\n",
       "      <td>yes</td>\n",
       "      <td>no</td>\n",
       "      <td>no</td>\n",
       "      <td>no</td>\n",
       "      <td>no</td>\n",
       "      <td>no</td>\n",
       "    </tr>\n",
       "  </tbody>\n",
       "</table>\n",
       "</div>"
      ],
      "text/plain": [
       "   Unnamed: 0 asia tub smoke lung bronc either xray dysp\n",
       "0           0   no  no    no   no   yes     no   no   no\n",
       "1           1   no  no    no  yes    no    yes  yes   no\n",
       "2           2   no  no    no   no    no     no   no   no\n",
       "3           3   no  no   yes   no   yes     no   no  yes\n",
       "4           4   no  no   yes   no    no     no   no   no"
      ]
     },
     "execution_count": 4,
     "metadata": {},
     "output_type": "execute_result"
    }
   ],
   "source": [
    "df = pd.read_csv(\"data_asia.csv\")\n",
    "df.head()"
   ]
  },
  {
   "cell_type": "code",
   "execution_count": 8,
   "metadata": {},
   "outputs": [],
   "source": [
    "model = BayesianNetwork ([( \"asia\" , \"tub\" ),\n",
    "                          ( \"smoke\" , \"lung\" ),\n",
    "                          ( \"smoke\" , \"bronc\" ),\n",
    "                          ( \"tub\" , \"either\" ),\n",
    "                          ( \"lung\" , \"either\" ),\n",
    "                          ( \"either\" , \"xray\" ),\n",
    "                          ( \"either\" , \"dysp\" ),\n",
    "                          ( \"bronc\" , \"dysp\" )])"
   ]
  },
  {
   "cell_type": "code",
   "execution_count": 9,
   "metadata": {},
   "outputs": [],
   "source": [
    "mls = MaximumLikelihoodEstimator(model=model,data=df)"
   ]
  },
  {
   "cell_type": "code",
   "execution_count": 17,
   "metadata": {},
   "outputs": [
    {
     "name": "stdout",
     "output_type": "stream",
     "text": [
      "+------------+---------+\n",
      "| smoke(no)  | 0.50054 |\n",
      "+------------+---------+\n",
      "| smoke(yes) | 0.49946 |\n",
      "+------------+---------+\n"
     ]
    }
   ],
   "source": [
    "cpd_s = mls.estimate_cpd(node=\"smoke\")\n",
    "print(cpd_s)"
   ]
  },
  {
   "cell_type": "code",
   "execution_count": 18,
   "metadata": {},
   "outputs": [
    {
     "data": {
      "text/plain": [
       "smoke\n",
       "no       50054\n",
       "yes      49946\n",
       "dtype: int64"
      ]
     },
     "execution_count": 18,
     "metadata": {},
     "output_type": "execute_result"
    }
   ],
   "source": [
    "df[[\"smoke\"]].value_counts()"
   ]
  },
  {
   "cell_type": "code",
   "execution_count": 19,
   "metadata": {},
   "outputs": [
    {
     "name": "stdout",
     "output_type": "stream",
     "text": [
      "+------------+---------------------+---------------------+\n",
      "| smoke      | smoke(no)           | smoke(yes)          |\n",
      "+------------+---------------------+---------------------+\n",
      "| bronc(no)  | 0.7000039956846605  | 0.40153365634885674 |\n",
      "+------------+---------------------+---------------------+\n",
      "| bronc(yes) | 0.29999600431533946 | 0.5984663436511433  |\n",
      "+------------+---------------------+---------------------+\n"
     ]
    }
   ],
   "source": [
    "cpd_b = mls.estimate_cpd(node=\"bronc\")\n",
    "print(cpd_b)"
   ]
  },
  {
   "cell_type": "code",
   "execution_count": 7,
   "metadata": {},
   "outputs": [
    {
     "data": {
      "text/plain": [
       "smoke  bronc\n",
       "no     no       35038\n",
       "yes    yes      29891\n",
       "       no       20055\n",
       "no     yes      15016\n",
       "dtype: int64"
      ]
     },
     "execution_count": 7,
     "metadata": {},
     "output_type": "execute_result"
    }
   ],
   "source": [
    "df[[\"smoke\",\"bronc\"]].value_counts()"
   ]
  },
  {
   "cell_type": "code",
   "execution_count": 11,
   "metadata": {},
   "outputs": [
    {
     "name": "stdout",
     "output_type": "stream",
     "text": [
      "+-----------+---------+\n",
      "| asia(no)  | 0.99057 |\n",
      "+-----------+---------+\n",
      "| asia(yes) | 0.00943 |\n",
      "+-----------+---------+\n",
      "+----------+----------------------+---------------------+\n",
      "| asia     | asia(no)             | asia(yes)           |\n",
      "+----------+----------------------+---------------------+\n",
      "| tub(no)  | 0.9895918511564049   | 0.9448568398727466  |\n",
      "+----------+----------------------+---------------------+\n",
      "| tub(yes) | 0.010408148843595103 | 0.05514316012725345 |\n",
      "+----------+----------------------+---------------------+\n",
      "+------------+---------+\n",
      "| smoke(no)  | 0.50054 |\n",
      "+------------+---------+\n",
      "| smoke(yes) | 0.49946 |\n",
      "+------------+---------+\n",
      "+-----------+----------------------+---------------------+\n",
      "| smoke     | smoke(no)            | smoke(yes)          |\n",
      "+-----------+----------------------+---------------------+\n",
      "| lung(no)  | 0.9905701842010628   | 0.8993512994033557  |\n",
      "+-----------+----------------------+---------------------+\n",
      "| lung(yes) | 0.009429815798937148 | 0.10064870059664438 |\n",
      "+-----------+----------------------+---------------------+\n",
      "+------------+---------------------+---------------------+\n",
      "| smoke      | smoke(no)           | smoke(yes)          |\n",
      "+------------+---------------------+---------------------+\n",
      "| bronc(no)  | 0.7000039956846605  | 0.40153365634885674 |\n",
      "+------------+---------------------+---------------------+\n",
      "| bronc(yes) | 0.29999600431533946 | 0.5984663436511433  |\n",
      "+------------+---------------------+---------------------+\n",
      "+-------------+----------+----------+-----------+-----------+\n",
      "| lung        | lung(no) | lung(no) | lung(yes) | lung(yes) |\n",
      "+-------------+----------+----------+-----------+-----------+\n",
      "| tub         | tub(no)  | tub(yes) | tub(no)   | tub(yes)  |\n",
      "+-------------+----------+----------+-----------+-----------+\n",
      "| either(no)  | 1.0      | 0.0      | 0.0       | 0.0       |\n",
      "+-------------+----------+----------+-----------+-----------+\n",
      "| either(yes) | 0.0      | 1.0      | 1.0       | 1.0       |\n",
      "+-------------+----------+----------+-----------+-----------+\n",
      "+-----------+----------------------+---------------------+\n",
      "| either    | either(no)           | either(yes)         |\n",
      "+-----------+----------------------+---------------------+\n",
      "| xray(no)  | 0.9506402644500787   | 0.01962287291123716 |\n",
      "+-----------+----------------------+---------------------+\n",
      "| xray(yes) | 0.049359735549921374 | 0.9803771270887628  |\n",
      "+-----------+----------------------+---------------------+\n",
      "+-----------+---------------------+-----+---------------------+\n",
      "| bronc     | bronc(no)           | ... | bronc(yes)          |\n",
      "+-----------+---------------------+-----+---------------------+\n",
      "| either    | either(no)          | ... | either(yes)         |\n",
      "+-----------+---------------------+-----+---------------------+\n",
      "| dysp(no)  | 0.8995302463809798  | ... | 0.09483960948396095 |\n",
      "+-----------+---------------------+-----+---------------------+\n",
      "| dysp(yes) | 0.10046975361902023 | ... | 0.905160390516039   |\n",
      "+-----------+---------------------+-----+---------------------+\n"
     ]
    }
   ],
   "source": [
    "model.fit(data=df,estimator=MaximumLikelihoodEstimator)\n",
    "for i in model.nodes():\n",
    "    print(model.get_cpds(i))"
   ]
  },
  {
   "cell_type": "code",
   "execution_count": 12,
   "metadata": {},
   "outputs": [],
   "source": [
    "model = BayesianNetwork ([( \"asia\" , \"tub\" ),\n",
    "                          ( \"smoke\" , \"lung\" ),\n",
    "                          ( \"smoke\" , \"bronc\" ),\n",
    "                          ( \"tub\" , \"either\" ),\n",
    "                          ( \"lung\" , \"either\" ),\n",
    "                          ( \"either\" , \"xray\" ),\n",
    "                          ( \"either\" , \"dysp\" ),\n",
    "                          ( \"bronc\" , \"dysp\" )])"
   ]
  },
  {
   "cell_type": "code",
   "execution_count": 13,
   "metadata": {},
   "outputs": [],
   "source": [
    "eby = BayesianEstimator(model,data=df)"
   ]
  },
  {
   "cell_type": "code",
   "execution_count": 20,
   "metadata": {},
   "outputs": [
    {
     "name": "stdout",
     "output_type": "stream",
     "text": [
      "+------------+----------+\n",
      "| smoke(no)  | 0.166849 |\n",
      "+------------+----------+\n",
      "| smoke(yes) | 0.833151 |\n",
      "+------------+----------+\n"
     ]
    }
   ],
   "source": [
    "cpd_by_s = eby.estimate_cpd(node=\"smoke\",prior_type=\"dirichlet\",pseudo_counts=[[1],[200000]])\n",
    "print(cpd_by_s)"
   ]
  },
  {
   "cell_type": "code",
   "execution_count": 23,
   "metadata": {},
   "outputs": [
    {
     "name": "stdout",
     "output_type": "stream",
     "text": [
      "+------------+-------------------+---------------------+\n",
      "| smoke      | smoke(no)         | smoke(yes)          |\n",
      "+------------+-------------------+---------------------+\n",
      "| bronc(no)  | 0.699996004474988 | 0.48906979948704954 |\n",
      "+------------+-------------------+---------------------+\n",
      "| bronc(yes) | 0.300003995525012 | 0.5109302005129505  |\n",
      "+------------+-------------------+---------------------+\n"
     ]
    }
   ],
   "source": [
    "cpd_by_b = eby.estimate_cpd(node=\"bronc\",prior_type=\"dirichlet\",pseudo_counts=[[1,200000],[1,200000]])\n",
    "print(cpd_by_b)"
   ]
  }
 ],
 "metadata": {
  "kernelspec": {
   "display_name": "Python 3",
   "language": "python",
   "name": "python3"
  },
  "language_info": {
   "codemirror_mode": {
    "name": "ipython",
    "version": 3
   },
   "file_extension": ".py",
   "mimetype": "text/x-python",
   "name": "python",
   "nbconvert_exporter": "python",
   "pygments_lexer": "ipython3",
   "version": "3.10.6"
  },
  "orig_nbformat": 4,
  "vscode": {
   "interpreter": {
    "hash": "916dbcbb3f70747c44a77c7bcd40155683ae19c65e1c03b4aa3499c5328201f1"
   }
  }
 },
 "nbformat": 4,
 "nbformat_minor": 2
}
